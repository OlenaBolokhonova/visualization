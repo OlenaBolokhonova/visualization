{
 "cells": [
  {
   "cell_type": "code",
   "execution_count": 15,
   "metadata": {},
   "outputs": [],
   "source": [
    "import pandas as pd\n",
    "import matplotlib.pyplot as plt\n",
    "import seaborn as sns\n",
    "import numpy as np\n",
    "import plotly.express as px\n"
   ]
  },
  {
   "cell_type": "code",
   "execution_count": 16,
   "metadata": {},
   "outputs": [],
   "source": [
    "import warnings\n",
    "\n",
    "# Suppress specific warnings\n",
    "warnings.filterwarnings(\"ignore\", category=FutureWarning, message=\".*A value is trying to be set on a copy of a DataFrame or Series through chained assignment using an inplace method.*\")"
   ]
  },
  {
   "cell_type": "code",
   "execution_count": 17,
   "metadata": {},
   "outputs": [
    {
     "name": "stderr",
     "output_type": "stream",
     "text": [
      "/var/folders/mn/hzb_sstd3t9f6xyvy2fry_5m0000gn/T/ipykernel_5224/423921863.py:6: DtypeWarning: Columns (18) have mixed types. Specify dtype option on import or set low_memory=False.\n",
      "  data_row = pd.read_csv(file_path)\n"
     ]
    },
    {
     "data": {
      "text/html": [
       "<div>\n",
       "<style scoped>\n",
       "    .dataframe tbody tr th:only-of-type {\n",
       "        vertical-align: middle;\n",
       "    }\n",
       "\n",
       "    .dataframe tbody tr th {\n",
       "        vertical-align: top;\n",
       "    }\n",
       "\n",
       "    .dataframe thead th {\n",
       "        text-align: right;\n",
       "    }\n",
       "</style>\n",
       "<table border=\"1\" class=\"dataframe\">\n",
       "  <thead>\n",
       "    <tr style=\"text-align: right;\">\n",
       "      <th></th>\n",
       "      <th>_id</th>\n",
       "      <th>Area_of_Origin</th>\n",
       "      <th>Building_Status</th>\n",
       "      <th>Business_Impact</th>\n",
       "      <th>Civilian_Casualties</th>\n",
       "      <th>Count_of_Persons_Rescued</th>\n",
       "      <th>Estimated_Dollar_Loss</th>\n",
       "      <th>Estimated_Number_Of_Persons_Displaced</th>\n",
       "      <th>Exposures</th>\n",
       "      <th>Ext_agent_app_or_defer_time</th>\n",
       "      <th>...</th>\n",
       "      <th>Smoke_Alarm_at_Fire_Origin_Alarm_Failure</th>\n",
       "      <th>Smoke_Alarm_at_Fire_Origin_Alarm_Type</th>\n",
       "      <th>Smoke_Alarm_Impact_on_Persons_Evacuating_Impact_on_Evacuation</th>\n",
       "      <th>Smoke_Spread</th>\n",
       "      <th>Sprinkler_System_Operation</th>\n",
       "      <th>Sprinkler_System_Presence</th>\n",
       "      <th>Status_of_Fire_On_Arrival</th>\n",
       "      <th>TFS_Alarm_Time</th>\n",
       "      <th>TFS_Arrival_Time</th>\n",
       "      <th>TFS_Firefighter_Casualties</th>\n",
       "    </tr>\n",
       "  </thead>\n",
       "  <tbody>\n",
       "    <tr>\n",
       "      <th>0</th>\n",
       "      <td>3199061</td>\n",
       "      <td>81 - Engine Area</td>\n",
       "      <td>NaN</td>\n",
       "      <td>NaN</td>\n",
       "      <td>0.0</td>\n",
       "      <td>0.0</td>\n",
       "      <td>15000.0</td>\n",
       "      <td>NaN</td>\n",
       "      <td>NaN</td>\n",
       "      <td>2018-02-24T21:12:00</td>\n",
       "      <td>...</td>\n",
       "      <td>NaN</td>\n",
       "      <td>NaN</td>\n",
       "      <td>NaN</td>\n",
       "      <td>NaN</td>\n",
       "      <td>NaN</td>\n",
       "      <td>NaN</td>\n",
       "      <td>7 - Fully involved (total structure, vehicle, ...</td>\n",
       "      <td>2018-02-24T21:04:29</td>\n",
       "      <td>2018-02-24T21:10:11</td>\n",
       "      <td>0.0</td>\n",
       "    </tr>\n",
       "    <tr>\n",
       "      <th>1</th>\n",
       "      <td>3199062</td>\n",
       "      <td>75 - Trash, rubbish area (outside)</td>\n",
       "      <td>NaN</td>\n",
       "      <td>NaN</td>\n",
       "      <td>0.0</td>\n",
       "      <td>0.0</td>\n",
       "      <td>50.0</td>\n",
       "      <td>NaN</td>\n",
       "      <td>NaN</td>\n",
       "      <td>2018-02-24T21:29:42</td>\n",
       "      <td>...</td>\n",
       "      <td>NaN</td>\n",
       "      <td>NaN</td>\n",
       "      <td>NaN</td>\n",
       "      <td>NaN</td>\n",
       "      <td>NaN</td>\n",
       "      <td>NaN</td>\n",
       "      <td>2 - Fire with no evidence from street</td>\n",
       "      <td>2018-02-24T21:24:43</td>\n",
       "      <td>2018-02-24T21:29:31</td>\n",
       "      <td>0.0</td>\n",
       "    </tr>\n",
       "    <tr>\n",
       "      <th>2</th>\n",
       "      <td>3199063</td>\n",
       "      <td>NaN</td>\n",
       "      <td>NaN</td>\n",
       "      <td>NaN</td>\n",
       "      <td>0.0</td>\n",
       "      <td>0.0</td>\n",
       "      <td>NaN</td>\n",
       "      <td>NaN</td>\n",
       "      <td>NaN</td>\n",
       "      <td>NaN</td>\n",
       "      <td>...</td>\n",
       "      <td>NaN</td>\n",
       "      <td>NaN</td>\n",
       "      <td>NaN</td>\n",
       "      <td>NaN</td>\n",
       "      <td>NaN</td>\n",
       "      <td>NaN</td>\n",
       "      <td>NaN</td>\n",
       "      <td>2018-02-25T13:29:59</td>\n",
       "      <td>2018-02-25T13:36:49</td>\n",
       "      <td>0.0</td>\n",
       "    </tr>\n",
       "    <tr>\n",
       "      <th>3</th>\n",
       "      <td>3199064</td>\n",
       "      <td>75 - Trash, rubbish area (outside)</td>\n",
       "      <td>01 - Normal (no change)</td>\n",
       "      <td>1 - No business interruption</td>\n",
       "      <td>0.0</td>\n",
       "      <td>0.0</td>\n",
       "      <td>0.0</td>\n",
       "      <td>0.0</td>\n",
       "      <td>NaN</td>\n",
       "      <td>2018-02-25T14:19:25</td>\n",
       "      <td>...</td>\n",
       "      <td>98 - Not applicable: Alarm operated OR presenc...</td>\n",
       "      <td>9 - Type undetermined</td>\n",
       "      <td>8 - Not applicable: No alarm, no persons present</td>\n",
       "      <td>99 - Undetermined</td>\n",
       "      <td>8 - Not applicable - no sprinkler system present</td>\n",
       "      <td>9 - Undetermined</td>\n",
       "      <td>3 - Fire with smoke showing only - including v...</td>\n",
       "      <td>2018-02-25T14:13:39</td>\n",
       "      <td>2018-02-25T14:18:07</td>\n",
       "      <td>0.0</td>\n",
       "    </tr>\n",
       "    <tr>\n",
       "      <th>4</th>\n",
       "      <td>3199065</td>\n",
       "      <td>NaN</td>\n",
       "      <td>NaN</td>\n",
       "      <td>NaN</td>\n",
       "      <td>0.0</td>\n",
       "      <td>0.0</td>\n",
       "      <td>NaN</td>\n",
       "      <td>NaN</td>\n",
       "      <td>NaN</td>\n",
       "      <td>NaN</td>\n",
       "      <td>...</td>\n",
       "      <td>NaN</td>\n",
       "      <td>NaN</td>\n",
       "      <td>NaN</td>\n",
       "      <td>NaN</td>\n",
       "      <td>NaN</td>\n",
       "      <td>NaN</td>\n",
       "      <td>NaN</td>\n",
       "      <td>2018-02-25T18:20:43</td>\n",
       "      <td>2018-02-25T18:26:19</td>\n",
       "      <td>0.0</td>\n",
       "    </tr>\n",
       "  </tbody>\n",
       "</table>\n",
       "<p>5 rows × 43 columns</p>\n",
       "</div>"
      ],
      "text/plain": [
       "       _id                      Area_of_Origin          Building_Status  \\\n",
       "0  3199061                    81 - Engine Area                      NaN   \n",
       "1  3199062  75 - Trash, rubbish area (outside)                      NaN   \n",
       "2  3199063                                 NaN                      NaN   \n",
       "3  3199064  75 - Trash, rubbish area (outside)  01 - Normal (no change)   \n",
       "4  3199065                                 NaN                      NaN   \n",
       "\n",
       "                Business_Impact  Civilian_Casualties  \\\n",
       "0                           NaN                  0.0   \n",
       "1                           NaN                  0.0   \n",
       "2                           NaN                  0.0   \n",
       "3  1 - No business interruption                  0.0   \n",
       "4                           NaN                  0.0   \n",
       "\n",
       "   Count_of_Persons_Rescued  Estimated_Dollar_Loss  \\\n",
       "0                       0.0                15000.0   \n",
       "1                       0.0                   50.0   \n",
       "2                       0.0                    NaN   \n",
       "3                       0.0                    0.0   \n",
       "4                       0.0                    NaN   \n",
       "\n",
       "   Estimated_Number_Of_Persons_Displaced  Exposures  \\\n",
       "0                                    NaN        NaN   \n",
       "1                                    NaN        NaN   \n",
       "2                                    NaN        NaN   \n",
       "3                                    0.0        NaN   \n",
       "4                                    NaN        NaN   \n",
       "\n",
       "  Ext_agent_app_or_defer_time  ...  \\\n",
       "0         2018-02-24T21:12:00  ...   \n",
       "1         2018-02-24T21:29:42  ...   \n",
       "2                         NaN  ...   \n",
       "3         2018-02-25T14:19:25  ...   \n",
       "4                         NaN  ...   \n",
       "\n",
       "            Smoke_Alarm_at_Fire_Origin_Alarm_Failure  \\\n",
       "0                                                NaN   \n",
       "1                                                NaN   \n",
       "2                                                NaN   \n",
       "3  98 - Not applicable: Alarm operated OR presenc...   \n",
       "4                                                NaN   \n",
       "\n",
       "  Smoke_Alarm_at_Fire_Origin_Alarm_Type  \\\n",
       "0                                   NaN   \n",
       "1                                   NaN   \n",
       "2                                   NaN   \n",
       "3                 9 - Type undetermined   \n",
       "4                                   NaN   \n",
       "\n",
       "  Smoke_Alarm_Impact_on_Persons_Evacuating_Impact_on_Evacuation  \\\n",
       "0                                                NaN              \n",
       "1                                                NaN              \n",
       "2                                                NaN              \n",
       "3   8 - Not applicable: No alarm, no persons present              \n",
       "4                                                NaN              \n",
       "\n",
       "        Smoke_Spread                        Sprinkler_System_Operation  \\\n",
       "0                NaN                                               NaN   \n",
       "1                NaN                                               NaN   \n",
       "2                NaN                                               NaN   \n",
       "3  99 - Undetermined  8 - Not applicable - no sprinkler system present   \n",
       "4                NaN                                               NaN   \n",
       "\n",
       "  Sprinkler_System_Presence  \\\n",
       "0                       NaN   \n",
       "1                       NaN   \n",
       "2                       NaN   \n",
       "3          9 - Undetermined   \n",
       "4                       NaN   \n",
       "\n",
       "                           Status_of_Fire_On_Arrival       TFS_Alarm_Time  \\\n",
       "0  7 - Fully involved (total structure, vehicle, ...  2018-02-24T21:04:29   \n",
       "1              2 - Fire with no evidence from street  2018-02-24T21:24:43   \n",
       "2                                                NaN  2018-02-25T13:29:59   \n",
       "3  3 - Fire with smoke showing only - including v...  2018-02-25T14:13:39   \n",
       "4                                                NaN  2018-02-25T18:20:43   \n",
       "\n",
       "      TFS_Arrival_Time  TFS_Firefighter_Casualties  \n",
       "0  2018-02-24T21:10:11                         0.0  \n",
       "1  2018-02-24T21:29:31                         0.0  \n",
       "2  2018-02-25T13:36:49                         0.0  \n",
       "3  2018-02-25T14:18:07                         0.0  \n",
       "4  2018-02-25T18:26:19                         0.0  \n",
       "\n",
       "[5 rows x 43 columns]"
      ]
     },
     "execution_count": 17,
     "metadata": {},
     "output_type": "execute_result"
    }
   ],
   "source": [
    "\n",
    "# Setting the seed for the random number generator for reproducibility\n",
    "np.random.seed(13)\n",
    "\n",
    "# Step 1: Read the data from the CSV file\n",
    "file_path = '/Users/elenabolokhonova/visualization/02_activities/assignments/assignment_4_materials/data/Fire Incidents Data.csv'\n",
    "data_row = pd.read_csv(file_path)\n",
    "\n",
    "# Review the data\n",
    "data_row.head()"
   ]
  },
  {
   "cell_type": "code",
   "execution_count": 18,
   "metadata": {},
   "outputs": [
    {
     "name": "stdout",
     "output_type": "stream",
     "text": [
      "Remaining missing values after dropping rows with missing critical values:\n",
      "_id                                                                  0\n",
      "Area_of_Origin                                                       0\n",
      "Building_Status                                                      0\n",
      "Business_Impact                                                      4\n",
      "Civilian_Casualties                                               2430\n",
      "Count_of_Persons_Rescued                                             0\n",
      "Estimated_Dollar_Loss                                                0\n",
      "Estimated_Number_Of_Persons_Displaced                                3\n",
      "Exposures                                                        13954\n",
      "Ext_agent_app_or_defer_time                                          1\n",
      "Extent_Of_Fire                                                       4\n",
      "Final_Incident_Type                                                  0\n",
      "Fire_Alarm_System_Impact_on_Evacuation                               3\n",
      "Fire_Alarm_System_Operation                                          3\n",
      "Fire_Alarm_System_Presence                                           3\n",
      "Fire_Under_Control_Time                                              2\n",
      "Ignition_Source                                                      0\n",
      "Incident_Number                                                      0\n",
      "Incident_Station_Area                                                0\n",
      "Incident_Ward                                                       46\n",
      "Initial_CAD_Event_Type                                               1\n",
      "Intersection                                                         0\n",
      "Last_TFS_Unit_Clear_Time                                             0\n",
      "Latitude                                                             0\n",
      "Level_Of_Origin                                                      4\n",
      "Longitude                                                            0\n",
      "Material_First_Ignited                                              24\n",
      "Method_Of_Fire_Control                                               0\n",
      "Number_of_responding_apparatus                                       0\n",
      "Number_of_responding_personnel                                       0\n",
      "Possible_Cause                                                       1\n",
      "Property_Use                                                         1\n",
      "Smoke_Alarm_at_Fire_Origin                                           3\n",
      "Smoke_Alarm_at_Fire_Origin_Alarm_Failure                             3\n",
      "Smoke_Alarm_at_Fire_Origin_Alarm_Type                                3\n",
      "Smoke_Alarm_Impact_on_Persons_Evacuating_Impact_on_Evacuation        3\n",
      "Smoke_Spread                                                         4\n",
      "Sprinkler_System_Operation                                           3\n",
      "Sprinkler_System_Presence                                            3\n",
      "Status_of_Fire_On_Arrival                                            0\n",
      "TFS_Alarm_Time                                                       0\n",
      "TFS_Arrival_Time                                                     0\n",
      "TFS_Firefighter_Casualties                                           0\n",
      "dtype: int64\n"
     ]
    }
   ],
   "source": [
    "# Initial data cleaning: create the data_cleaned DataFrame\n",
    "data_cleaned = data_row.copy()\n",
    "\n",
    "# Drop rows with missing 'Area_of_Origin', 'Estimated_Dollar_Loss', and other critical columns\n",
    "data_cleaned = data_cleaned.dropna(subset=['Area_of_Origin', 'Estimated_Dollar_Loss', 'Building_Status'])\n",
    "\n",
    "# Print remaining missing values after dropping rows with missing critical values\n",
    "print(\"Remaining missing values after dropping rows with missing critical values:\")\n",
    "print(data_cleaned.isnull().sum())"
   ]
  },
  {
   "cell_type": "code",
   "execution_count": 19,
   "metadata": {},
   "outputs": [
    {
     "name": "stdout",
     "output_type": "stream",
     "text": [
      "Remaining missing values after imputation:\n",
      "_id                                                                  0\n",
      "Area_of_Origin                                                       0\n",
      "Building_Status                                                      0\n",
      "Business_Impact                                                      0\n",
      "Civilian_Casualties                                                  0\n",
      "Count_of_Persons_Rescued                                             0\n",
      "Estimated_Dollar_Loss                                                0\n",
      "Estimated_Number_Of_Persons_Displaced                                0\n",
      "Exposures                                                        13954\n",
      "Ext_agent_app_or_defer_time                                          0\n",
      "Extent_Of_Fire                                                       0\n",
      "Final_Incident_Type                                                  0\n",
      "Fire_Alarm_System_Impact_on_Evacuation                               0\n",
      "Fire_Alarm_System_Operation                                          0\n",
      "Fire_Alarm_System_Presence                                           0\n",
      "Fire_Under_Control_Time                                              0\n",
      "Ignition_Source                                                      0\n",
      "Incident_Number                                                      0\n",
      "Incident_Station_Area                                                0\n",
      "Incident_Ward                                                        0\n",
      "Initial_CAD_Event_Type                                               0\n",
      "Intersection                                                         0\n",
      "Last_TFS_Unit_Clear_Time                                             0\n",
      "Latitude                                                             0\n",
      "Level_Of_Origin                                                      0\n",
      "Longitude                                                            0\n",
      "Material_First_Ignited                                              24\n",
      "Method_Of_Fire_Control                                               0\n",
      "Number_of_responding_apparatus                                       0\n",
      "Number_of_responding_personnel                                       0\n",
      "Possible_Cause                                                       1\n",
      "Property_Use                                                         1\n",
      "Smoke_Alarm_at_Fire_Origin                                           3\n",
      "Smoke_Alarm_at_Fire_Origin_Alarm_Failure                             3\n",
      "Smoke_Alarm_at_Fire_Origin_Alarm_Type                                3\n",
      "Smoke_Alarm_Impact_on_Persons_Evacuating_Impact_on_Evacuation        3\n",
      "Smoke_Spread                                                         4\n",
      "Sprinkler_System_Operation                                           3\n",
      "Sprinkler_System_Presence                                            3\n",
      "Status_of_Fire_On_Arrival                                            0\n",
      "TFS_Alarm_Time                                                       0\n",
      "TFS_Arrival_Time                                                     0\n",
      "TFS_Firefighter_Casualties                                           0\n",
      "dtype: int64\n"
     ]
    }
   ],
   "source": [
    "# Fill missing numerical values with median\n",
    "numerical_cols_to_impute = ['Civilian_Casualties', 'Estimated_Number_Of_Persons_Displaced']\n",
    "for col in numerical_cols_to_impute:\n",
    "    data_cleaned[col].fillna(data_cleaned[col].median(), inplace=True)\n",
    "\n",
    "# Fill missing date columns with the most frequent date\n",
    "data_cleaned['Fire_Under_Control_Time'] = pd.to_datetime(data_cleaned['Fire_Under_Control_Time'])\n",
    "most_frequent_date = data_cleaned['Fire_Under_Control_Time'].mode()[0]\n",
    "data_cleaned['Fire_Under_Control_Time'].fillna(most_frequent_date, inplace=True)\n",
    "\n",
    "# Fill missing categorical values with mode\n",
    "categorical_cols_to_impute = ['Business_Impact', 'Ext_agent_app_or_defer_time', 'Extent_Of_Fire', \n",
    "                              'Fire_Alarm_System_Impact_on_Evacuation', 'Fire_Alarm_System_Operation', \n",
    "                              'Fire_Alarm_System_Presence', 'Incident_Ward', 'Initial_CAD_Event_Type', \n",
    "                              'Level_Of_Origin']\n",
    "for col in categorical_cols_to_impute:\n",
    "    data_cleaned[col].fillna(data_cleaned[col].mode()[0], inplace=True)\n",
    "\n",
    "print(\"Remaining missing values after imputation:\")\n",
    "print(data_cleaned.isnull().sum())\n"
   ]
  },
  {
   "cell_type": "code",
   "execution_count": 22,
   "metadata": {},
   "outputs": [
    {
     "name": "stdout",
     "output_type": "stream",
     "text": [
      "Cleaned data saved to /Users/elenabolokhonova/visualization/02_activities/assignments/assignment_4_materials/data/Fire_Incidents_Cleaned.csv\n"
     ]
    }
   ],
   "source": [
    "# Save the cleaned data to a new CSV file\n",
    "cleaned_file_path = '/Users/elenabolokhonova/visualization/02_activities/assignments/assignment_4_materials/data/Fire_Incidents_Cleaned.csv'\n",
    "data_cleaned.to_csv(cleaned_file_path, index=False)\n",
    "print(f\"Cleaned data saved to {cleaned_file_path}\")\n"
   ]
  },
  {
   "cell_type": "code",
   "execution_count": 23,
   "metadata": {},
   "outputs": [
    {
     "data": {
      "application/vnd.plotly.v1+json": {
       "config": {
        "plotlyServerURL": "https://plot.ly"
       },
       "data": [
        {
         "alignmentgroup": "True",
         "customdata": [
          [
           100000,
           5
          ],
          [
           50000,
           3
          ],
          [
           40000,
           4
          ],
          [
           30000,
           2
          ],
          [
           20000,
           1
          ],
          [
           15000,
           0
          ],
          [
           12000,
           2
          ],
          [
           10000,
           1
          ],
          [
           8000,
           0
          ],
          [
           5000,
           0
          ]
         ],
         "hovertemplate": "Area_of_Origin=%{x}<br>Frequency of Incidents=%{y}<br>Estimated Dollar Loss=%{marker.color}<br>Civilian Casualties=%{customdata[1]}<extra></extra>",
         "legendgroup": "",
         "marker": {
          "color": [
           100000,
           50000,
           40000,
           30000,
           20000,
           15000,
           12000,
           10000,
           8000,
           5000
          ],
          "coloraxis": "coloraxis",
          "pattern": {
           "shape": ""
          }
         },
         "name": "",
         "offsetgroup": "",
         "orientation": "v",
         "showlegend": false,
         "textposition": "auto",
         "type": "bar",
         "x": [
          "Cooking Area or Kitchen",
          "Porch or Balcony",
          "Sleeping Area or Bedroom",
          "Trash, Rubbish Storage",
          "Living Area",
          "Garage",
          "Laundry Area",
          "Washroom or Bathroom",
          "Roof",
          "Process Manufacturing"
         ],
         "xaxis": "x",
         "y": [
          4000,
          1500,
          1300,
          1100,
          920,
          600,
          540,
          470,
          370,
          300
         ],
         "yaxis": "y"
        }
       ],
       "layout": {
        "bargap": 0.2,
        "barmode": "relative",
        "coloraxis": {
         "colorbar": {
          "title": {
           "text": "Estimated Dollar Loss"
          }
         },
         "colorscale": [
          [
           0,
           "#0d0887"
          ],
          [
           0.1111111111111111,
           "#46039f"
          ],
          [
           0.2222222222222222,
           "#7201a8"
          ],
          [
           0.3333333333333333,
           "#9c179e"
          ],
          [
           0.4444444444444444,
           "#bd3786"
          ],
          [
           0.5555555555555556,
           "#d8576b"
          ],
          [
           0.6666666666666666,
           "#ed7953"
          ],
          [
           0.7777777777777778,
           "#fb9f3a"
          ],
          [
           0.8888888888888888,
           "#fdca26"
          ],
          [
           1,
           "#f0f921"
          ]
         ]
        },
        "height": 500,
        "legend": {
         "tracegroupgap": 0
        },
        "margin": {
         "b": 150,
         "l": 50,
         "r": 50,
         "t": 150
        },
        "plot_bgcolor": "white",
        "template": {
         "data": {
          "bar": [
           {
            "error_x": {
             "color": "#2a3f5f"
            },
            "error_y": {
             "color": "#2a3f5f"
            },
            "marker": {
             "line": {
              "color": "#E5ECF6",
              "width": 0.5
             },
             "pattern": {
              "fillmode": "overlay",
              "size": 10,
              "solidity": 0.2
             }
            },
            "type": "bar"
           }
          ],
          "barpolar": [
           {
            "marker": {
             "line": {
              "color": "#E5ECF6",
              "width": 0.5
             },
             "pattern": {
              "fillmode": "overlay",
              "size": 10,
              "solidity": 0.2
             }
            },
            "type": "barpolar"
           }
          ],
          "carpet": [
           {
            "aaxis": {
             "endlinecolor": "#2a3f5f",
             "gridcolor": "white",
             "linecolor": "white",
             "minorgridcolor": "white",
             "startlinecolor": "#2a3f5f"
            },
            "baxis": {
             "endlinecolor": "#2a3f5f",
             "gridcolor": "white",
             "linecolor": "white",
             "minorgridcolor": "white",
             "startlinecolor": "#2a3f5f"
            },
            "type": "carpet"
           }
          ],
          "choropleth": [
           {
            "colorbar": {
             "outlinewidth": 0,
             "ticks": ""
            },
            "type": "choropleth"
           }
          ],
          "contour": [
           {
            "colorbar": {
             "outlinewidth": 0,
             "ticks": ""
            },
            "colorscale": [
             [
              0,
              "#0d0887"
             ],
             [
              0.1111111111111111,
              "#46039f"
             ],
             [
              0.2222222222222222,
              "#7201a8"
             ],
             [
              0.3333333333333333,
              "#9c179e"
             ],
             [
              0.4444444444444444,
              "#bd3786"
             ],
             [
              0.5555555555555556,
              "#d8576b"
             ],
             [
              0.6666666666666666,
              "#ed7953"
             ],
             [
              0.7777777777777778,
              "#fb9f3a"
             ],
             [
              0.8888888888888888,
              "#fdca26"
             ],
             [
              1,
              "#f0f921"
             ]
            ],
            "type": "contour"
           }
          ],
          "contourcarpet": [
           {
            "colorbar": {
             "outlinewidth": 0,
             "ticks": ""
            },
            "type": "contourcarpet"
           }
          ],
          "heatmap": [
           {
            "colorbar": {
             "outlinewidth": 0,
             "ticks": ""
            },
            "colorscale": [
             [
              0,
              "#0d0887"
             ],
             [
              0.1111111111111111,
              "#46039f"
             ],
             [
              0.2222222222222222,
              "#7201a8"
             ],
             [
              0.3333333333333333,
              "#9c179e"
             ],
             [
              0.4444444444444444,
              "#bd3786"
             ],
             [
              0.5555555555555556,
              "#d8576b"
             ],
             [
              0.6666666666666666,
              "#ed7953"
             ],
             [
              0.7777777777777778,
              "#fb9f3a"
             ],
             [
              0.8888888888888888,
              "#fdca26"
             ],
             [
              1,
              "#f0f921"
             ]
            ],
            "type": "heatmap"
           }
          ],
          "heatmapgl": [
           {
            "colorbar": {
             "outlinewidth": 0,
             "ticks": ""
            },
            "colorscale": [
             [
              0,
              "#0d0887"
             ],
             [
              0.1111111111111111,
              "#46039f"
             ],
             [
              0.2222222222222222,
              "#7201a8"
             ],
             [
              0.3333333333333333,
              "#9c179e"
             ],
             [
              0.4444444444444444,
              "#bd3786"
             ],
             [
              0.5555555555555556,
              "#d8576b"
             ],
             [
              0.6666666666666666,
              "#ed7953"
             ],
             [
              0.7777777777777778,
              "#fb9f3a"
             ],
             [
              0.8888888888888888,
              "#fdca26"
             ],
             [
              1,
              "#f0f921"
             ]
            ],
            "type": "heatmapgl"
           }
          ],
          "histogram": [
           {
            "marker": {
             "pattern": {
              "fillmode": "overlay",
              "size": 10,
              "solidity": 0.2
             }
            },
            "type": "histogram"
           }
          ],
          "histogram2d": [
           {
            "colorbar": {
             "outlinewidth": 0,
             "ticks": ""
            },
            "colorscale": [
             [
              0,
              "#0d0887"
             ],
             [
              0.1111111111111111,
              "#46039f"
             ],
             [
              0.2222222222222222,
              "#7201a8"
             ],
             [
              0.3333333333333333,
              "#9c179e"
             ],
             [
              0.4444444444444444,
              "#bd3786"
             ],
             [
              0.5555555555555556,
              "#d8576b"
             ],
             [
              0.6666666666666666,
              "#ed7953"
             ],
             [
              0.7777777777777778,
              "#fb9f3a"
             ],
             [
              0.8888888888888888,
              "#fdca26"
             ],
             [
              1,
              "#f0f921"
             ]
            ],
            "type": "histogram2d"
           }
          ],
          "histogram2dcontour": [
           {
            "colorbar": {
             "outlinewidth": 0,
             "ticks": ""
            },
            "colorscale": [
             [
              0,
              "#0d0887"
             ],
             [
              0.1111111111111111,
              "#46039f"
             ],
             [
              0.2222222222222222,
              "#7201a8"
             ],
             [
              0.3333333333333333,
              "#9c179e"
             ],
             [
              0.4444444444444444,
              "#bd3786"
             ],
             [
              0.5555555555555556,
              "#d8576b"
             ],
             [
              0.6666666666666666,
              "#ed7953"
             ],
             [
              0.7777777777777778,
              "#fb9f3a"
             ],
             [
              0.8888888888888888,
              "#fdca26"
             ],
             [
              1,
              "#f0f921"
             ]
            ],
            "type": "histogram2dcontour"
           }
          ],
          "mesh3d": [
           {
            "colorbar": {
             "outlinewidth": 0,
             "ticks": ""
            },
            "type": "mesh3d"
           }
          ],
          "parcoords": [
           {
            "line": {
             "colorbar": {
              "outlinewidth": 0,
              "ticks": ""
             }
            },
            "type": "parcoords"
           }
          ],
          "pie": [
           {
            "automargin": true,
            "type": "pie"
           }
          ],
          "scatter": [
           {
            "fillpattern": {
             "fillmode": "overlay",
             "size": 10,
             "solidity": 0.2
            },
            "type": "scatter"
           }
          ],
          "scatter3d": [
           {
            "line": {
             "colorbar": {
              "outlinewidth": 0,
              "ticks": ""
             }
            },
            "marker": {
             "colorbar": {
              "outlinewidth": 0,
              "ticks": ""
             }
            },
            "type": "scatter3d"
           }
          ],
          "scattercarpet": [
           {
            "marker": {
             "colorbar": {
              "outlinewidth": 0,
              "ticks": ""
             }
            },
            "type": "scattercarpet"
           }
          ],
          "scattergeo": [
           {
            "marker": {
             "colorbar": {
              "outlinewidth": 0,
              "ticks": ""
             }
            },
            "type": "scattergeo"
           }
          ],
          "scattergl": [
           {
            "marker": {
             "colorbar": {
              "outlinewidth": 0,
              "ticks": ""
             }
            },
            "type": "scattergl"
           }
          ],
          "scattermapbox": [
           {
            "marker": {
             "colorbar": {
              "outlinewidth": 0,
              "ticks": ""
             }
            },
            "type": "scattermapbox"
           }
          ],
          "scatterpolar": [
           {
            "marker": {
             "colorbar": {
              "outlinewidth": 0,
              "ticks": ""
             }
            },
            "type": "scatterpolar"
           }
          ],
          "scatterpolargl": [
           {
            "marker": {
             "colorbar": {
              "outlinewidth": 0,
              "ticks": ""
             }
            },
            "type": "scatterpolargl"
           }
          ],
          "scatterternary": [
           {
            "marker": {
             "colorbar": {
              "outlinewidth": 0,
              "ticks": ""
             }
            },
            "type": "scatterternary"
           }
          ],
          "surface": [
           {
            "colorbar": {
             "outlinewidth": 0,
             "ticks": ""
            },
            "colorscale": [
             [
              0,
              "#0d0887"
             ],
             [
              0.1111111111111111,
              "#46039f"
             ],
             [
              0.2222222222222222,
              "#7201a8"
             ],
             [
              0.3333333333333333,
              "#9c179e"
             ],
             [
              0.4444444444444444,
              "#bd3786"
             ],
             [
              0.5555555555555556,
              "#d8576b"
             ],
             [
              0.6666666666666666,
              "#ed7953"
             ],
             [
              0.7777777777777778,
              "#fb9f3a"
             ],
             [
              0.8888888888888888,
              "#fdca26"
             ],
             [
              1,
              "#f0f921"
             ]
            ],
            "type": "surface"
           }
          ],
          "table": [
           {
            "cells": {
             "fill": {
              "color": "#EBF0F8"
             },
             "line": {
              "color": "white"
             }
            },
            "header": {
             "fill": {
              "color": "#C8D4E3"
             },
             "line": {
              "color": "white"
             }
            },
            "type": "table"
           }
          ]
         },
         "layout": {
          "annotationdefaults": {
           "arrowcolor": "#2a3f5f",
           "arrowhead": 0,
           "arrowwidth": 1
          },
          "autotypenumbers": "strict",
          "coloraxis": {
           "colorbar": {
            "outlinewidth": 0,
            "ticks": ""
           }
          },
          "colorscale": {
           "diverging": [
            [
             0,
             "#8e0152"
            ],
            [
             0.1,
             "#c51b7d"
            ],
            [
             0.2,
             "#de77ae"
            ],
            [
             0.3,
             "#f1b6da"
            ],
            [
             0.4,
             "#fde0ef"
            ],
            [
             0.5,
             "#f7f7f7"
            ],
            [
             0.6,
             "#e6f5d0"
            ],
            [
             0.7,
             "#b8e186"
            ],
            [
             0.8,
             "#7fbc41"
            ],
            [
             0.9,
             "#4d9221"
            ],
            [
             1,
             "#276419"
            ]
           ],
           "sequential": [
            [
             0,
             "#0d0887"
            ],
            [
             0.1111111111111111,
             "#46039f"
            ],
            [
             0.2222222222222222,
             "#7201a8"
            ],
            [
             0.3333333333333333,
             "#9c179e"
            ],
            [
             0.4444444444444444,
             "#bd3786"
            ],
            [
             0.5555555555555556,
             "#d8576b"
            ],
            [
             0.6666666666666666,
             "#ed7953"
            ],
            [
             0.7777777777777778,
             "#fb9f3a"
            ],
            [
             0.8888888888888888,
             "#fdca26"
            ],
            [
             1,
             "#f0f921"
            ]
           ],
           "sequentialminus": [
            [
             0,
             "#0d0887"
            ],
            [
             0.1111111111111111,
             "#46039f"
            ],
            [
             0.2222222222222222,
             "#7201a8"
            ],
            [
             0.3333333333333333,
             "#9c179e"
            ],
            [
             0.4444444444444444,
             "#bd3786"
            ],
            [
             0.5555555555555556,
             "#d8576b"
            ],
            [
             0.6666666666666666,
             "#ed7953"
            ],
            [
             0.7777777777777778,
             "#fb9f3a"
            ],
            [
             0.8888888888888888,
             "#fdca26"
            ],
            [
             1,
             "#f0f921"
            ]
           ]
          },
          "colorway": [
           "#636efa",
           "#EF553B",
           "#00cc96",
           "#ab63fa",
           "#FFA15A",
           "#19d3f3",
           "#FF6692",
           "#B6E880",
           "#FF97FF",
           "#FECB52"
          ],
          "font": {
           "color": "#2a3f5f"
          },
          "geo": {
           "bgcolor": "white",
           "lakecolor": "white",
           "landcolor": "#E5ECF6",
           "showlakes": true,
           "showland": true,
           "subunitcolor": "white"
          },
          "hoverlabel": {
           "align": "left"
          },
          "hovermode": "closest",
          "mapbox": {
           "style": "light"
          },
          "paper_bgcolor": "white",
          "plot_bgcolor": "#E5ECF6",
          "polar": {
           "angularaxis": {
            "gridcolor": "white",
            "linecolor": "white",
            "ticks": ""
           },
           "bgcolor": "#E5ECF6",
           "radialaxis": {
            "gridcolor": "white",
            "linecolor": "white",
            "ticks": ""
           }
          },
          "scene": {
           "xaxis": {
            "backgroundcolor": "#E5ECF6",
            "gridcolor": "white",
            "gridwidth": 2,
            "linecolor": "white",
            "showbackground": true,
            "ticks": "",
            "zerolinecolor": "white"
           },
           "yaxis": {
            "backgroundcolor": "#E5ECF6",
            "gridcolor": "white",
            "gridwidth": 2,
            "linecolor": "white",
            "showbackground": true,
            "ticks": "",
            "zerolinecolor": "white"
           },
           "zaxis": {
            "backgroundcolor": "#E5ECF6",
            "gridcolor": "white",
            "gridwidth": 2,
            "linecolor": "white",
            "showbackground": true,
            "ticks": "",
            "zerolinecolor": "white"
           }
          },
          "shapedefaults": {
           "line": {
            "color": "#2a3f5f"
           }
          },
          "ternary": {
           "aaxis": {
            "gridcolor": "white",
            "linecolor": "white",
            "ticks": ""
           },
           "baxis": {
            "gridcolor": "white",
            "linecolor": "white",
            "ticks": ""
           },
           "bgcolor": "#E5ECF6",
           "caxis": {
            "gridcolor": "white",
            "linecolor": "white",
            "ticks": ""
           }
          },
          "title": {
           "x": 0.05
          },
          "xaxis": {
           "automargin": true,
           "gridcolor": "white",
           "linecolor": "white",
           "ticks": "",
           "title": {
            "standoff": 15
           },
           "zerolinecolor": "white",
           "zerolinewidth": 2
          },
          "yaxis": {
           "automargin": true,
           "gridcolor": "white",
           "linecolor": "white",
           "ticks": "",
           "title": {
            "standoff": 15
           },
           "zerolinecolor": "white",
           "zerolinewidth": 2
          }
         }
        },
        "title": {
         "font": {
          "color": "purple",
          "family": "Arial, sans-serif",
          "size": 18
         },
         "text": "Top 10 Most Frequent Areas of Origin for Fire Incidents responded by \"Toronto Fire Service\"",
         "x": 0.5,
         "xanchor": "center",
         "y": 0.9,
         "yanchor": "top"
        },
        "width": 800,
        "xaxis": {
         "anchor": "y",
         "domain": [
          0,
          1
         ],
         "gridcolor": "lightgrey",
         "griddash": "solid",
         "gridwidth": 1,
         "showgrid": true,
         "tickangle": -45,
         "tickfont": {
          "color": "black",
          "family": "Arial, sans-serif",
          "size": 12
         },
         "title": {
          "font": {
           "color": "black",
           "family": "Arial, sans-serif",
           "size": 16
          },
          "text": "Area of Origin"
         }
        },
        "yaxis": {
         "anchor": "x",
         "domain": [
          0,
          1
         ],
         "gridcolor": "lightgrey",
         "griddash": "solid",
         "gridwidth": 1,
         "showgrid": true,
         "tickfont": {
          "color": "black",
          "family": "Arial, sans-serif",
          "size": 12
         },
         "title": {
          "font": {
           "color": "black",
           "family": "Arial, sans-serif",
           "size": 16
          },
          "text": "Frequency"
         }
        }
       }
      }
     },
     "metadata": {},
     "output_type": "display_data"
    }
   ],
   "source": [
    "# Example cleaned dataset with added columns for demonstration\n",
    "data = {\n",
    "    'Area_of_Origin': [\n",
    "        'Cooking Area or Kitchen', 'Porch or Balcony', 'Sleeping Area or Bedroom',\n",
    "        'Trash, Rubbish Storage', 'Living Area', 'Garage', 'Laundry Area',\n",
    "        'Washroom or Bathroom', 'Roof', 'Process Manufacturing'\n",
    "    ],\n",
    "    'Frequency': [4000, 1500, 1300, 1100, 920, 600, 540, 470, 370, 300],\n",
    "    'Estimated_Dollar_Loss': [100000, 50000, 40000, 30000, 20000, 15000, 12000, 10000, 8000, 5000],\n",
    "    'Civilian_Casualties': [5, 3, 4, 2, 1, 0, 2, 1, 0, 0]\n",
    "}\n",
    "\n",
    "# Create a DataFrame\n",
    "df = pd.DataFrame(data)\n",
    "\n",
    "# Define the color scale you want to use\n",
    "color_scale = 'Plasma'  # Change to any other available color scale\n",
    "\n",
    "# Create and save individual frames\n",
    "filenames = []\n",
    "for i in range(10):\n",
    "    # Update the data or the layout for each frame\n",
    "    fig = px.bar(\n",
    "        df, \n",
    "        x='Area_of_Origin', \n",
    "        y='Frequency', \n",
    "        hover_data=['Estimated_Dollar_Loss', 'Civilian_Casualties'],  # Additional hover data\n",
    "        color='Estimated_Dollar_Loss',  # Color scale based on Estimated Dollar Loss\n",
    "        labels={'Frequency': 'Frequency of Incidents', 'Estimated_Dollar_Loss': 'Estimated Dollar Loss', 'Civilian_Casualties': 'Civilian Casualties'},\n",
    "        height=500,  # Adjusted height for smaller figure\n",
    "        width=800,  # Adjusted width for smaller figure\n",
    "        color_continuous_scale=color_scale  # Use the chosen color scale\n",
    "    )\n",
    "    \n",
    "    fig.update_layout(\n",
    "        title={\n",
    "            'text': 'Top 10 Most Frequent Areas of Origin for Fire Incidents responded by \"Toronto Fire Service\"',\n",
    "            'y':0.9,\n",
    "            'x':0.5,\n",
    "            'xanchor': 'center',\n",
    "            'yanchor': 'top',\n",
    "            'font': {\n",
    "                'size': 18,\n",
    "                'family': 'Arial, sans-serif',\n",
    "                'color': 'purple'\n",
    "            }\n",
    "        },\n",
    "        xaxis_title='Area of Origin',\n",
    "        xaxis_title_font=dict(size=16, family='Arial, sans-serif', color='black'),  # Adjusted axis title font size\n",
    "        yaxis_title='Frequency',\n",
    "        yaxis_title_font=dict(size=16, family='Arial, sans-serif', color='black'),  # Adjusted axis title font size\n",
    "        xaxis_tickfont=dict(size=12, family='Arial, sans-serif', color='black'),  # Adjusted tick font size\n",
    "        yaxis_tickfont=dict(size=12, family='Arial, sans-serif', color='black'),  # Adjusted tick font size\n",
    "        xaxis_tickangle=-45,  # Rotate x-axis labels\n",
    "        plot_bgcolor='white',\n",
    "        bargap=0.2,  # Gap between bars\n",
    "        margin=dict(l=50, r=50, t=150, b=150),  # Adjusted margins for smaller figure\n",
    "        xaxis=dict(\n",
    "            showgrid=True,\n",
    "            gridcolor='lightgrey',  # Set x-axis grid color to light grey\n",
    "            gridwidth=1,  # Set x-axis grid line width\n",
    "            griddash='solid'  # Set x-axis grid line style\n",
    "        ),\n",
    "        yaxis=dict(\n",
    "            showgrid=True,\n",
    "            gridcolor='lightgrey',  # Set y-axis grid color to light grey\n",
    "            gridwidth=1,  # Set y-axis grid line width\n",
    "            griddash='solid'  # Set y-axis grid line style\n",
    "        )\n",
    "    )\n",
    "    \n",
    "\n",
    "\n",
    "# Show the interactive plot\n",
    "fig.show()\n"
   ]
  }
 ],
 "metadata": {
  "kernelspec": {
   "display_name": "dsi_participant",
   "language": "python",
   "name": "python3"
  },
  "language_info": {
   "codemirror_mode": {
    "name": "ipython",
    "version": 3
   },
   "file_extension": ".py",
   "mimetype": "text/x-python",
   "name": "python",
   "nbconvert_exporter": "python",
   "pygments_lexer": "ipython3",
   "version": "3.9.18"
  }
 },
 "nbformat": 4,
 "nbformat_minor": 2
}
